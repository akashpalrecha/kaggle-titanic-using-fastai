{
 "cells": [
  {
   "cell_type": "code",
   "execution_count": 1,
   "metadata": {},
   "outputs": [],
   "source": [
    "from fastai import *\n",
    "from fastai.tabular import *"
   ]
  },
  {
   "cell_type": "code",
   "execution_count": 19,
   "metadata": {},
   "outputs": [],
   "source": [
    "df = pd.read_csv('titanic/train.csv').drop(['Name'], axis=1)\n",
    "testdf = pd.read_csv('titanic/processed_test.csv').drop(['Name'], axis=1)"
   ]
  },
  {
   "cell_type": "code",
   "execution_count": 21,
   "metadata": {},
   "outputs": [
    {
     "data": {
      "text/plain": [
       "PassengerId       892\n",
       "Pclass              3\n",
       "Sex              male\n",
       "Age              34.5\n",
       "SibSp               0\n",
       "Parch               0\n",
       "Ticket         330911\n",
       "Fare           7.8292\n",
       "Cabin             NaN\n",
       "Embarked            Q\n",
       "Name: 0, dtype: object"
      ]
     },
     "execution_count": 21,
     "metadata": {},
     "output_type": "execute_result"
    }
   ],
   "source": [
    "testdf.iloc[0]"
   ]
  },
  {
   "cell_type": "code",
   "execution_count": 12,
   "metadata": {},
   "outputs": [],
   "source": [
    "dep_var = 'Survived'\n",
    "cont_names = ['Fare']\n",
    "cat_names = ['PassengerId', 'Pclass', 'Sex', 'Age', 'SibSp', 'Parch', 'Ticket', 'Cabin', 'Embarked']\n",
    "\n",
    "procs = [FillMissing, Categorify, Normalize]\n",
    "PATH = Path('titanic')"
   ]
  },
  {
   "cell_type": "code",
   "execution_count": 13,
   "metadata": {},
   "outputs": [
    {
     "data": {
      "text/html": [
       "<div>\n",
       "<style scoped>\n",
       "    .dataframe tbody tr th:only-of-type {\n",
       "        vertical-align: middle;\n",
       "    }\n",
       "\n",
       "    .dataframe tbody tr th {\n",
       "        vertical-align: top;\n",
       "    }\n",
       "\n",
       "    .dataframe thead th {\n",
       "        text-align: right;\n",
       "    }\n",
       "</style>\n",
       "<table border=\"1\" class=\"dataframe\">\n",
       "  <thead>\n",
       "    <tr style=\"text-align: right;\">\n",
       "      <th></th>\n",
       "      <th>PassengerId</th>\n",
       "      <th>Pclass</th>\n",
       "      <th>Sex</th>\n",
       "      <th>Age</th>\n",
       "      <th>SibSp</th>\n",
       "      <th>Parch</th>\n",
       "      <th>Ticket</th>\n",
       "      <th>Fare</th>\n",
       "      <th>Cabin</th>\n",
       "      <th>Embarked</th>\n",
       "    </tr>\n",
       "  </thead>\n",
       "  <tbody>\n",
       "    <tr>\n",
       "      <th>0</th>\n",
       "      <td>892</td>\n",
       "      <td>3</td>\n",
       "      <td>male</td>\n",
       "      <td>34.5</td>\n",
       "      <td>0</td>\n",
       "      <td>0</td>\n",
       "      <td>330911</td>\n",
       "      <td>7.8292</td>\n",
       "      <td>NaN</td>\n",
       "      <td>Q</td>\n",
       "    </tr>\n",
       "    <tr>\n",
       "      <th>1</th>\n",
       "      <td>893</td>\n",
       "      <td>3</td>\n",
       "      <td>female</td>\n",
       "      <td>47.0</td>\n",
       "      <td>1</td>\n",
       "      <td>0</td>\n",
       "      <td>363272</td>\n",
       "      <td>7.0000</td>\n",
       "      <td>NaN</td>\n",
       "      <td>S</td>\n",
       "    </tr>\n",
       "    <tr>\n",
       "      <th>2</th>\n",
       "      <td>894</td>\n",
       "      <td>2</td>\n",
       "      <td>male</td>\n",
       "      <td>62.0</td>\n",
       "      <td>0</td>\n",
       "      <td>0</td>\n",
       "      <td>240276</td>\n",
       "      <td>9.6875</td>\n",
       "      <td>NaN</td>\n",
       "      <td>Q</td>\n",
       "    </tr>\n",
       "    <tr>\n",
       "      <th>3</th>\n",
       "      <td>895</td>\n",
       "      <td>3</td>\n",
       "      <td>male</td>\n",
       "      <td>27.0</td>\n",
       "      <td>0</td>\n",
       "      <td>0</td>\n",
       "      <td>315154</td>\n",
       "      <td>8.6625</td>\n",
       "      <td>NaN</td>\n",
       "      <td>S</td>\n",
       "    </tr>\n",
       "    <tr>\n",
       "      <th>4</th>\n",
       "      <td>896</td>\n",
       "      <td>3</td>\n",
       "      <td>female</td>\n",
       "      <td>22.0</td>\n",
       "      <td>1</td>\n",
       "      <td>1</td>\n",
       "      <td>3101298</td>\n",
       "      <td>12.2875</td>\n",
       "      <td>NaN</td>\n",
       "      <td>S</td>\n",
       "    </tr>\n",
       "  </tbody>\n",
       "</table>\n",
       "</div>"
      ],
      "text/plain": [
       "   PassengerId  Pclass     Sex   Age  SibSp  Parch   Ticket     Fare Cabin  \\\n",
       "0          892       3    male  34.5      0      0   330911   7.8292   NaN   \n",
       "1          893       3  female  47.0      1      0   363272   7.0000   NaN   \n",
       "2          894       2    male  62.0      0      0   240276   9.6875   NaN   \n",
       "3          895       3    male  27.0      0      0   315154   8.6625   NaN   \n",
       "4          896       3  female  22.0      1      1  3101298  12.2875   NaN   \n",
       "\n",
       "  Embarked  \n",
       "0        Q  \n",
       "1        S  \n",
       "2        Q  \n",
       "3        S  \n",
       "4        S  "
      ]
     },
     "execution_count": 13,
     "metadata": {},
     "output_type": "execute_result"
    }
   ],
   "source": [
    "testdf.head()"
   ]
  },
  {
   "cell_type": "code",
   "execution_count": 14,
   "metadata": {},
   "outputs": [],
   "source": [
    "np.random.seed(41)\n",
    "test = TabularList.from_df(testdf, path=PATH, cat_names=cat_names, cont_names=cont_names, procs=procs)\n",
    "data = (TabularList.from_df(df, cat_names=cat_names, cont_names=cont_names, procs=procs, path=PATH)\n",
    "        .random_split_by_pct(0.10)\n",
    "        .label_from_df(cols=dep_var)\n",
    "        .add_test(test)\n",
    "        .databunch())"
   ]
  },
  {
   "cell_type": "code",
   "execution_count": 15,
   "metadata": {},
   "outputs": [],
   "source": [
    "learn = tabular_learner(data, layers=[200, 400], metrics=accuracy)"
   ]
  },
  {
   "cell_type": "code",
   "execution_count": 16,
   "metadata": {},
   "outputs": [
    {
     "data": {
      "text/plain": [
       "Learner(data=TabularDataBunch;\n",
       "Train: LabelList\n",
       "y: CategoryList (802 items)\n",
       "[Category 0, Category 1, Category 1, Category 1, Category 0]...\n",
       "Path: titanic\n",
       "x: TabularList (802 items)\n",
       "[TabularLine PassengerId 1; Pclass 3; Sex male; Age 22.0; SibSp 1; Parch 0; Ticket A/5 21171; Cabin #na#; Embarked S; Fare -0.4914; , TabularLine PassengerId 2; Pclass 1; Sex female; Age 38.0; SibSp 1; Parch 0; Ticket PC 17599; Cabin C85; Embarked C; Fare 0.7914; , TabularLine PassengerId 3; Pclass 3; Sex female; Age 26.0; SibSp 0; Parch 0; Ticket STON/O2. 3101282; Cabin #na#; Embarked S; Fare -0.4779; , TabularLine PassengerId 4; Pclass 1; Sex female; Age 35.0; SibSp 1; Parch 0; Ticket 113803; Cabin C123; Embarked S; Fare 0.4271; , TabularLine PassengerId 5; Pclass 3; Sex male; Age 35.0; SibSp 0; Parch 0; Ticket 373450; Cabin #na#; Embarked S; Fare -0.4754; ]...\n",
       "Path: titanic;\n",
       "Valid: LabelList\n",
       "y: CategoryList (89 items)\n",
       "[Category 0, Category 0, Category 1, Category 0, Category 0]...\n",
       "Path: titanic\n",
       "x: TabularList (89 items)\n",
       "[TabularLine PassengerId #na#; Pclass 3; Sex male; Age #na#; SibSp 0; Parch 0; Ticket #na#; Cabin #na#; Embarked S; Fare -0.4754; , TabularLine PassengerId #na#; Pclass 3; Sex male; Age 21.0; SibSp 0; Parch 0; Ticket 54636; Cabin #na#; Embarked S; Fare -0.3141; , TabularLine PassengerId #na#; Pclass 1; Sex female; Age 30.0; SibSp 0; Parch 0; Ticket #na#; Cabin #na#; Embarked C; Fare 1.4954; , TabularLine PassengerId #na#; Pclass 2; Sex male; Age 25.0; SibSp 1; Parch 2; Ticket SC/Paris 2123; Cabin #na#; Embarked C; Fare 0.1963; , TabularLine PassengerId #na#; Pclass 3; Sex female; Age 31.0; SibSp 0; Parch 0; Ticket #na#; Cabin #na#; Embarked S; Fare -0.4793; ]...\n",
       "Path: titanic;\n",
       "Test: LabelList\n",
       "y: CategoryList (418 items)\n",
       "[Category 0, Category 0, Category 0, Category 0, Category 0]...\n",
       "Path: titanic\n",
       "x: TabularList (418 items)\n",
       "[TabularLine PassengerId #na#; Pclass 3; Sex male; Age 34.5; SibSp 0; Parch 0; Ticket #na#; Cabin #na#; Embarked Q; Fare -0.4798; , TabularLine PassengerId #na#; Pclass 3; Sex female; Age 47.0; SibSp 1; Parch 0; Ticket #na#; Cabin #na#; Embarked S; Fare -0.4964; , TabularLine PassengerId #na#; Pclass 2; Sex male; Age 62.0; SibSp 0; Parch 0; Ticket #na#; Cabin #na#; Embarked Q; Fare -0.4426; , TabularLine PassengerId #na#; Pclass 3; Sex male; Age 27.0; SibSp 0; Parch 0; Ticket #na#; Cabin #na#; Embarked S; Fare -0.4631; , TabularLine PassengerId #na#; Pclass 3; Sex female; Age 22.0; SibSp 1; Parch 1; Ticket 3101298; Cabin #na#; Embarked S; Fare -0.3905; ]...\n",
       "Path: titanic, model=TabularModel(\n",
       "  (embeds): ModuleList(\n",
       "    (0): Embedding(803, 68)\n",
       "    (1): Embedding(4, 3)\n",
       "    (2): Embedding(3, 3)\n",
       "    (3): Embedding(89, 20)\n",
       "    (4): Embedding(8, 5)\n",
       "    (5): Embedding(8, 5)\n",
       "    (6): Embedding(630, 59)\n",
       "    (7): Embedding(138, 25)\n",
       "    (8): Embedding(4, 3)\n",
       "  )\n",
       "  (emb_drop): Dropout(p=0.0)\n",
       "  (bn_cont): BatchNorm1d(1, eps=1e-05, momentum=0.1, affine=True, track_running_stats=True)\n",
       "  (layers): Sequential(\n",
       "    (0): Linear(in_features=192, out_features=200, bias=True)\n",
       "    (1): ReLU(inplace)\n",
       "    (2): BatchNorm1d(200, eps=1e-05, momentum=0.1, affine=True, track_running_stats=True)\n",
       "    (3): Linear(in_features=200, out_features=400, bias=True)\n",
       "    (4): ReLU(inplace)\n",
       "    (5): BatchNorm1d(400, eps=1e-05, momentum=0.1, affine=True, track_running_stats=True)\n",
       "    (6): Linear(in_features=400, out_features=2, bias=True)\n",
       "  )\n",
       "), opt_func=functools.partial(<class 'torch.optim.adam.Adam'>, betas=(0.9, 0.99)), loss_func=<function cross_entropy at 0x1a221e2a60>, metrics=[<function accuracy at 0x1a2242eea0>], true_wd=True, bn_wd=True, wd=0.01, train_bn=True, path=PosixPath('titanic'), model_dir='models', callback_fns=[<class 'fastai.basic_train.Recorder'>], callbacks=[], layer_groups=[Sequential(\n",
       "  (0): Embedding(803, 68)\n",
       "  (1): Embedding(4, 3)\n",
       "  (2): Embedding(3, 3)\n",
       "  (3): Embedding(89, 20)\n",
       "  (4): Embedding(8, 5)\n",
       "  (5): Embedding(8, 5)\n",
       "  (6): Embedding(630, 59)\n",
       "  (7): Embedding(138, 25)\n",
       "  (8): Embedding(4, 3)\n",
       "  (9): Dropout(p=0.0)\n",
       "  (10): BatchNorm1d(1, eps=1e-05, momentum=0.1, affine=True, track_running_stats=True)\n",
       "  (11): Linear(in_features=192, out_features=200, bias=True)\n",
       "  (12): ReLU(inplace)\n",
       "  (13): BatchNorm1d(200, eps=1e-05, momentum=0.1, affine=True, track_running_stats=True)\n",
       "  (14): Linear(in_features=200, out_features=400, bias=True)\n",
       "  (15): BatchNorm1d(400, eps=1e-05, momentum=0.1, affine=True, track_running_stats=True)\n",
       "  (16): Linear(in_features=400, out_features=2, bias=True)\n",
       ")])"
      ]
     },
     "execution_count": 16,
     "metadata": {},
     "output_type": "execute_result"
    }
   ],
   "source": [
    "learn.load('model_83_1')"
   ]
  },
  {
   "cell_type": "code",
   "execution_count": 28,
   "metadata": {},
   "outputs": [],
   "source": [
    "sample = learn.predict(testdf.iloc[4])[0]"
   ]
  },
  {
   "cell_type": "code",
   "execution_count": 48,
   "metadata": {},
   "outputs": [],
   "source": [
    "for i, j in enumerate(testdf.iloc[:]):\n",
    "    j\n",
    "    if i == 5:\n",
    "        break"
   ]
  },
  {
   "cell_type": "code",
   "execution_count": 52,
   "metadata": {},
   "outputs": [
    {
     "data": {
      "text/plain": [
       "PassengerId       892\n",
       "Pclass              3\n",
       "Sex              male\n",
       "Age              34.5\n",
       "SibSp               0\n",
       "Parch               0\n",
       "Ticket         330911\n",
       "Fare           7.8292\n",
       "Cabin             NaN\n",
       "Embarked            Q\n",
       "Name: 0, dtype: object"
      ]
     },
     "execution_count": 52,
     "metadata": {},
     "output_type": "execute_result"
    }
   ],
   "source": [
    "testdf.iloc[0]"
   ]
  },
  {
   "cell_type": "code",
   "execution_count": 55,
   "metadata": {},
   "outputs": [],
   "source": [
    "predictions = [(testdf.iloc[i][0], to_np(learn.predict(testdf.iloc[i])[0])) for i in range(len(testdf))]"
   ]
  },
  {
   "cell_type": "code",
   "execution_count": 58,
   "metadata": {},
   "outputs": [],
   "source": [
    "predictions = np.array(predictions)\n",
    "predictions = pd.DataFrame(predictions)\n",
    "predictions.columns = ['PassengerId', 'Survived']"
   ]
  },
  {
   "cell_type": "code",
   "execution_count": 64,
   "metadata": {},
   "outputs": [],
   "source": [
    "predictions.to_csv('yet_another_submission.csv', index=False)"
   ]
  },
  {
   "cell_type": "code",
   "execution_count": null,
   "metadata": {},
   "outputs": [],
   "source": []
  }
 ],
 "metadata": {
  "kernelspec": {
   "display_name": "Python 3",
   "language": "python",
   "name": "python3"
  },
  "language_info": {
   "codemirror_mode": {
    "name": "ipython",
    "version": 3
   },
   "file_extension": ".py",
   "mimetype": "text/x-python",
   "name": "python",
   "nbconvert_exporter": "python",
   "pygments_lexer": "ipython3",
   "version": "3.6.6"
  },
  "toc": {
   "base_numbering": 1,
   "nav_menu": {},
   "number_sections": true,
   "sideBar": true,
   "skip_h1_title": false,
   "title_cell": "Table of Contents",
   "title_sidebar": "Contents",
   "toc_cell": false,
   "toc_position": {},
   "toc_section_display": true,
   "toc_window_display": false
  },
  "varInspector": {
   "cols": {
    "lenName": 16,
    "lenType": 16,
    "lenVar": 40
   },
   "kernels_config": {
    "python": {
     "delete_cmd_postfix": "",
     "delete_cmd_prefix": "del ",
     "library": "var_list.py",
     "varRefreshCmd": "print(var_dic_list())"
    },
    "r": {
     "delete_cmd_postfix": ") ",
     "delete_cmd_prefix": "rm(",
     "library": "var_list.r",
     "varRefreshCmd": "cat(var_dic_list()) "
    }
   },
   "types_to_exclude": [
    "module",
    "function",
    "builtin_function_or_method",
    "instance",
    "_Feature"
   ],
   "window_display": false
  }
 },
 "nbformat": 4,
 "nbformat_minor": 2
}
